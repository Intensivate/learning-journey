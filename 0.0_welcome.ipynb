{
 "cells": [
  {
   "cell_type": "markdown",
   "metadata": {},
   "source": [
    "<a name=\"top\"></a><img src=\"images/chisel_1024.png\" alt=\"Chisel logo\" style=\"width:480px;\" />"
   ]
  },
  {
   "cell_type": "markdown",
   "metadata": {},
   "source": [
    "# Welcome to Intensivate's Learning Journey for Chisel.\n",
    "**Next: [Learning Journey](0.1_learning-journey.ipynb)**\n",
    "\n",
    "The Learning journey is a simplified hand-holding step by step way for those new to Chisel to quickly and easily ramp up and become productive. As of June 2020, we've merged the Learning Journey with the [Chisel Bootcamp](https://github.com/chisel-bootcamp), therefore the basic examples are now interactive and the advanced examples from the Learning Journey are added to the end as-is. The first pages of this jupyter notbook are dedicated to important aspects of Chisel from Intensivate's point of view \n",
    "\n",
    "There is also a list of reference material, but that can easily be overwhelming to those new to Chisel, and it can also easily be a time sink for those who are trying to ramp up and get stuff done with the minimum of time invested."
   ]
  },
  {
   "cell_type": "markdown",
   "metadata": {},
   "source": [
    "---\n",
    "# All done!\n",
    "\n",
    "[Return to the top.](#top)"
   ]
  }
 ],
 "metadata": {
  "anaconda-cloud": {},
  "kernelspec": {
   "display_name": "Scala",
   "language": "scala",
   "name": "scala"
  },
  "language_info": {
   "codemirror_mode": "text/x-scala",
   "file_extension": ".scala",
   "mimetype": "text/x-scala",
   "name": "scala",
   "nbconvert_exporter": "script",
   "version": "2.12.10"
  }
 },
 "nbformat": 4,
 "nbformat_minor": 2
}
